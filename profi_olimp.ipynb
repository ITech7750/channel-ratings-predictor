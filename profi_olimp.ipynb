{
 "cells": [
  {
   "cell_type": "markdown",
   "metadata": {},
   "source": [
    "### Импорт библиотек "
   ]
  },
  {
   "cell_type": "code",
   "execution_count": 43,
   "metadata": {},
   "outputs": [],
   "source": [
    "# для автоматизации действий веб-браузера\n",
    "from selenium import webdriver\n",
    "from selenium.webdriver.common.by import By\n",
    "# для работы с многомерными массивами\n",
    "import numpy as np\n",
    "# для работы с даннными и таблицами\n",
    "import pandas as pd\n",
    "# настраивать время в запросах\n",
    "import time\n",
    "# В библиотеке sklearn содержится наиболее оптмаильный метод для вычисления линейной регрессии\n",
    "from sklearn.linear_model import LinearRegression \n",
    "# для постоения графиков\n",
    "import matplotlib.pyplot as plt\n",
    "# для создания нейронной сети\n",
    "import tensorflow as tf"
   ]
  },
  {
   "cell_type": "markdown",
   "metadata": {},
   "source": [
    "# Парсинг "
   ]
  },
  {
   "cell_type": "code",
   "execution_count": 44,
   "metadata": {},
   "outputs": [],
   "source": [
    "\n",
    "def smart_waiter(driver, interval=0.5, max_attempts=20, by=By.TAG_NAME, value='body'):\n",
    "    time.sleep(2)\n",
    "\n",
    "    #todo более умное ожидание не 2 сек\n",
    "    '''\n",
    "    for _ in range(max_attempts):\n",
    "        try:\n",
    "            element = driver.find_element(by, value)\n",
    "            return\n",
    "        except NoSuchElementException:\n",
    "            pass\n",
    "        sleep(interval)\n",
    "    print(\"Время ожидания превышено. Страница не загружена.\")\n",
    "    '''\n",
    "\n",
    "def get_page_html(url):\n",
    "    driver = uc.Chrome()\n",
    "    try:\n",
    "        driver.get(url)\n",
    "        smart_waiter(driver)\n",
    "        html = driver.page_source\n",
    "        \n",
    "        return html\n",
    "\n",
    "    finally:\n",
    "        driver.quit()\n",
    "\n",
    "def get_powernet_data():\n",
    "    driver = webdriver.Chrome()\n",
    "\n",
    "    driver.get(\"https://www.powernet.com.ru/channels-stat\")\n",
    "\n",
    "    smart_waiter(driver)\n",
    "    \n",
    "    names = [p.text for p in driver.find_elements(By.XPATH, \"//table/tbody/tr/td[2]\")]\n",
    "    num1 = [p.text for p in driver.find_elements(By.XPATH, \"//table/tbody/tr/td[4]\")]\n",
    "    num2 = [p.text for p in driver.find_elements(By.XPATH, \"//table/tbody/tr/td[6]\")]\n",
    "\n",
    "    driver.quit()\n",
    "\n",
    "    data = []\n",
    "    for i in range(len(names)):\n",
    "        data.append([names[i].lower(), float(num1[i][:-2].replace(\"<\",\"\")), float(num2[i][:-2].replace(\"<\",\"\"))])\n",
    "        #Телеканал, Рейтинг по времени просмотра, Рейтинг по количеству зрителей\n",
    "\n",
    "    return data\n",
    "\n",
    "\n",
    "def get_mediascope_data():\n",
    "    driver = webdriver.Chrome()\n",
    "\n",
    "    driver.get(\"https://mediascope.net/data/\")\n",
    "\n",
    "    smart_waiter(driver)\n",
    "\n",
    "    people_input1 = driver.find_element(By.XPATH, '//*[@id=\"rates_form\"]/div/div[3]/div[2]/div/div[1]')\n",
    "    people_input1.click()\n",
    "\n",
    "    time.sleep(0.5)\n",
    "\n",
    "    people_input2 = driver.find_element(By.XPATH, '//*[@id=\"rates_form\"]/div/div[3]/div[2]/div/div[2]/div/div[2]')\n",
    "    people_input2.click()\n",
    "\n",
    "    time.sleep(0.5)\n",
    "\n",
    "    button = element = driver.find_element(By.XPATH, '//*[@id=\"rates_form\"]/div/div[7]/div/input[1]')\n",
    "    button.click()\n",
    "\n",
    "    time.sleep(0.5)\n",
    "\n",
    "    program_names = [p.text for p in driver.find_elements(By.XPATH, \"//table/tbody/tr/td[3]\")]\n",
    "    names = [p.text for p in driver.find_elements(By.XPATH, \"//table/tbody/tr/td[6]\")]\n",
    "    num1 = [p.text for p in driver.find_elements(By.XPATH, \"//table/tbody/tr/td[7]\")]\n",
    "    num2 = [p.text for p in driver.find_elements(By.XPATH, \"//table/tbody/tr/td[8]\")]\n",
    "    num3 = [p.text for p in driver.find_elements(By.XPATH, \"//table/tbody/tr/td[9]\")]\n",
    "    driver.quit()\n",
    "\n",
    "    data = []\n",
    "    for i in range(len(names)):\n",
    "        data += [[names[i].lower(),program_names[i].lower(), float(num1[i]), float(num2[i]), float(num3[i])]]\n",
    "        #Телеканал, Программа, Рейтинг, Доля, Охват\n",
    "\n",
    "    return data\n",
    "\n",
    "\n"
   ]
  },
  {
   "cell_type": "markdown",
   "metadata": {},
   "source": [
    "### Сохраняем данные "
   ]
  },
  {
   "cell_type": "code",
   "execution_count": 45,
   "metadata": {},
   "outputs": [],
   "source": [
    "# сохраняем спарсенные данные в массивы\n",
    "\n",
    "ans1 = get_powernet_data()\n",
    "\n",
    "ans2 = get_mediascope_data()\n"
   ]
  },
  {
   "cell_type": "markdown",
   "metadata": {},
   "source": [
    "### Сохраняем данные в csv таблицу"
   ]
  },
  {
   "cell_type": "code",
   "execution_count": 46,
   "metadata": {},
   "outputs": [],
   "source": [
    "\n",
    "newframeOfAns1 = pd.DataFrame(ans1)\n",
    "newframeOfAns1.to_csv(f'csv_export_train.csv',index=False)\n",
    "newframeOfAns2 = pd.DataFrame(ans2)\n",
    "newframeOfAns2.to_csv(f'csv_export_train.csv',index=False)"
   ]
  },
  {
   "cell_type": "markdown",
   "metadata": {},
   "source": []
  },
  {
   "cell_type": "markdown",
   "metadata": {},
   "source": [
    "### Формируем датасет"
   ]
  },
  {
   "cell_type": "code",
   "execution_count": 47,
   "metadata": {},
   "outputs": [],
   "source": [
    "train_data = []\n",
    "train_labels = []\n",
    "\n",
    "for i in range(7):\n",
    "\n",
    "    frame1 = pd.read_csv(f'csv_export_train{i + 1}.csv').to_numpy()\n",
    "    frame2 = pd.read_csv(f'csv_export_mediascope{i + 1}.csv').to_numpy()\n",
    "\n",
    "    for i in range(len(frame1)):\n",
    "        for j in range(len(frame2)):\n",
    "            if (frame1[i][0] == frame2[j][0]):\n",
    "                frame1[i][0] = i\n",
    "                frame2[j][0] = i\n",
    "                train_data.append(frame1[i])\n",
    "                train_labels.append(frame2[j])\n",
    "                \n",
    "#print(len(train_data))\n",
    "#print(len(train_labels))"
   ]
  },
  {
   "cell_type": "markdown",
   "metadata": {},
   "source": [
    "Создадим класс Channel, при помощи которого удобно хранить и систематизировать данные"
   ]
  },
  {
   "cell_type": "code",
   "execution_count": 48,
   "metadata": {},
   "outputs": [],
   "source": [
    "class Channel:\n",
    "    def __init__(self, channel_id, view_rating, audience_rating):\n",
    "        self.channel_id = channel_id\n",
    "        self.view_rating = view_rating\n",
    "        self.audience_rating = audience_rating\n"
   ]
  },
  {
   "cell_type": "markdown",
   "metadata": {},
   "source": [
    "# Линейная регрессия\n",
    "\n",
    "Линейная регрессия - самый простой инструмент выявления зависимости между различными числовыми признакми. Часто линейную регрессию относят к методам машинного обучения, однако на самом деле - это не так. Восстановить линейную ргрессию - то есть линейную зависимость между различными числовыми данными - можно с помощью аналитического решения. Тем не менее, так как линейная ргрессия решает ту же задачу, что и машинное обучение - задачу восстановления зависимости между данными - для регрессии применяются те же термины и понятия, что и для машинного обучения."
   ]
  },
  {
   "cell_type": "markdown",
   "metadata": {},
   "source": [
    "### Машинное обучение\n",
    "\n",
    "Центральным понятием машинного обучения является _обучающая выборка_. Это примеры, на основе которых планируется строить общую закономерность. Она обозначается $X$ и состоит из $l$ пар объектов $x_{i}$ и известных ответов $y_{i}$:\n",
    "\n",
    "$$X = (x_{i}, y_{i})^l_{i=1}.$$\n",
    "\n",
    "Функция, отображающая пространство объектов $\\mathbb{X}$ в пространство ответов $\\mathbb{Y}$, позволяющая делать предсказания, называется _алгоритмом_ или _моделью_ и обозначается $a(x)$. Она принимает на вход объект и выдает ответ.\n",
    "\n",
    "Отметим, что $ x_{i} = (x^{1}, x^{2}, ..., x^{d}) $. То есть каждый объект $x_{i}$ состоит из ряда различных значений."
   ]
  },
  {
   "cell_type": "markdown",
   "metadata": {},
   "source": [
    "#### Функционал ошибки\n",
    "\n",
    "Для обучения модели и сравнения различных моделей между собой необходимо разработать математическую формулу и алгоритм расчёта ошибки модели. В рамках решения задачи оптимизации обычно ставится задача достижения минимального значения функционала ошибки.\n",
    "\n",
    "В качестве очевидного решения можно предложить такую формулу:\n",
    "$Q(a,y)=a(x)-y$. Однако, у неё есть принципиальная проблема: у такой функции не существует минимума.\n",
    "\n",
    "С учётом этого, логичным кажется решение использовать в качестве функции для расчёта ошибки модуль отклонения $Q(a,y)=|a(x)-y|$. Соответствующий функционал ошибки называется средним абсолютным отклонением (mean absolute error, MAE):\n",
    "\n",
    "$$Q(a,x) = \\frac{1}{l}\\sum^{l}_{i=1}|a(x_{i})-y_{i}|.$$\n",
    "\n",
    "Однако, мы уже разбирали, что функционал ошибки или функция потерь, должны быть дифференцируемы, а значит, необходимо предложить другой вариант базовой функции для расчёта ошибки: $Q(a,y)=(a(x)-y)^{2}$. Такая функция является гладкой и имеет производную в каждой точке, а ее минимум достигается при равенстве истинного ответа $y$ и прогноза $a(x)$.\n",
    "\n",
    "Основанный на этой функции функционал ошибки называется _среднеквадратичным отклонением_ (mean squared error, MSE):\n",
    "\n",
    "$$Q(a,x) = \\frac{1}{l}\\sum^{l}_{i=1}(a(x_{i})-y_{i})^{2}.$$"
   ]
  },
  {
   "cell_type": "markdown",
   "metadata": {},
   "source": [
    "#### Вывод аналитической формулы для решения линейной регрессии\n",
    "\n",
    "Таким образом, задача расчёт оптимальных коэффициентов математически может быть записана следующим образом.\n",
    "\n",
    "$$Q(w,x) = \\frac{1}{l}\\sum^{l}_{i=1}(\\left \\langle w,x_{i} \\right \\rangle-y_{i})^{2} \\rightarrow \\underset{w}{\\text{min}}.$$\n",
    "\n",
    "Если вас смущает возникшая, казалось бы путаница, между различными записями, то целесообразно ввести матричную запись признаков:\n",
    "\n",
    "$$X = \\begin{pmatrix}\n",
    "x_{11} & ... & x_{1d}\\\\\n",
    "... & ... & ...\\\\\n",
    "x_{l1} & ... & x_{ld}\n",
    "\\end{pmatrix},$$\n",
    "\n",
    "$$y = \\begin{pmatrix}\n",
    "y_{1}\\\\\n",
    "...\\\\\n",
    "y_{l}\n",
    "\\end{pmatrix}.$$\n",
    "\n",
    "Таким образом, задача начинает выглядеть следующим образом\n",
    "\n",
    "$$Q(w, X) = \\frac{1}{l}||Xw-y||^{2}\\rightarrow \\underset{w}{\\text{min}},$$\n",
    "\n",
    "Взяв производную (от матрицы (!)) и прировняв её к нулю (точка экструма квадратинчной функции) можно получить значения коэффициентов:\n",
    "\n",
    "$$w = (X^{T}X)^{-1}X^{T}y.$$\n"
   ]
  },
  {
   "cell_type": "code",
   "execution_count": 19,
   "metadata": {},
   "outputs": [],
   "source": [
    "# данные для примера \n",
    "\n",
    "x = np.array([-2,-2,-1,0,-1,1,2]).reshape((-1, 1))\n",
    "y = np.array([9, 4, 1, 0, 1, 4, 9])"
   ]
  },
  {
   "cell_type": "code",
   "execution_count": 20,
   "metadata": {},
   "outputs": [],
   "source": [
    "# Создаем модель линейной регрессии - т.е. прямой которая будет проходить через наши точки\n",
    "# Эта операция создаёт переменную model в качестве экземпляра LinearRegression\n",
    "\n",
    "model = LinearRegression()\n"
   ]
  },
  {
   "cell_type": "code",
   "execution_count": 21,
   "metadata": {},
   "outputs": [
    {
     "data": {
      "text/html": [
       "<style>#sk-container-id-1 {color: black;}#sk-container-id-1 pre{padding: 0;}#sk-container-id-1 div.sk-toggleable {background-color: white;}#sk-container-id-1 label.sk-toggleable__label {cursor: pointer;display: block;width: 100%;margin-bottom: 0;padding: 0.3em;box-sizing: border-box;text-align: center;}#sk-container-id-1 label.sk-toggleable__label-arrow:before {content: \"▸\";float: left;margin-right: 0.25em;color: #696969;}#sk-container-id-1 label.sk-toggleable__label-arrow:hover:before {color: black;}#sk-container-id-1 div.sk-estimator:hover label.sk-toggleable__label-arrow:before {color: black;}#sk-container-id-1 div.sk-toggleable__content {max-height: 0;max-width: 0;overflow: hidden;text-align: left;background-color: #f0f8ff;}#sk-container-id-1 div.sk-toggleable__content pre {margin: 0.2em;color: black;border-radius: 0.25em;background-color: #f0f8ff;}#sk-container-id-1 input.sk-toggleable__control:checked~div.sk-toggleable__content {max-height: 200px;max-width: 100%;overflow: auto;}#sk-container-id-1 input.sk-toggleable__control:checked~label.sk-toggleable__label-arrow:before {content: \"▾\";}#sk-container-id-1 div.sk-estimator input.sk-toggleable__control:checked~label.sk-toggleable__label {background-color: #d4ebff;}#sk-container-id-1 div.sk-label input.sk-toggleable__control:checked~label.sk-toggleable__label {background-color: #d4ebff;}#sk-container-id-1 input.sk-hidden--visually {border: 0;clip: rect(1px 1px 1px 1px);clip: rect(1px, 1px, 1px, 1px);height: 1px;margin: -1px;overflow: hidden;padding: 0;position: absolute;width: 1px;}#sk-container-id-1 div.sk-estimator {font-family: monospace;background-color: #f0f8ff;border: 1px dotted black;border-radius: 0.25em;box-sizing: border-box;margin-bottom: 0.5em;}#sk-container-id-1 div.sk-estimator:hover {background-color: #d4ebff;}#sk-container-id-1 div.sk-parallel-item::after {content: \"\";width: 100%;border-bottom: 1px solid gray;flex-grow: 1;}#sk-container-id-1 div.sk-label:hover label.sk-toggleable__label {background-color: #d4ebff;}#sk-container-id-1 div.sk-serial::before {content: \"\";position: absolute;border-left: 1px solid gray;box-sizing: border-box;top: 0;bottom: 0;left: 50%;z-index: 0;}#sk-container-id-1 div.sk-serial {display: flex;flex-direction: column;align-items: center;background-color: white;padding-right: 0.2em;padding-left: 0.2em;position: relative;}#sk-container-id-1 div.sk-item {position: relative;z-index: 1;}#sk-container-id-1 div.sk-parallel {display: flex;align-items: stretch;justify-content: center;background-color: white;position: relative;}#sk-container-id-1 div.sk-item::before, #sk-container-id-1 div.sk-parallel-item::before {content: \"\";position: absolute;border-left: 1px solid gray;box-sizing: border-box;top: 0;bottom: 0;left: 50%;z-index: -1;}#sk-container-id-1 div.sk-parallel-item {display: flex;flex-direction: column;z-index: 1;position: relative;background-color: white;}#sk-container-id-1 div.sk-parallel-item:first-child::after {align-self: flex-end;width: 50%;}#sk-container-id-1 div.sk-parallel-item:last-child::after {align-self: flex-start;width: 50%;}#sk-container-id-1 div.sk-parallel-item:only-child::after {width: 0;}#sk-container-id-1 div.sk-dashed-wrapped {border: 1px dashed gray;margin: 0 0.4em 0.5em 0.4em;box-sizing: border-box;padding-bottom: 0.4em;background-color: white;}#sk-container-id-1 div.sk-label label {font-family: monospace;font-weight: bold;display: inline-block;line-height: 1.2em;}#sk-container-id-1 div.sk-label-container {text-align: center;}#sk-container-id-1 div.sk-container {/* jupyter's `normalize.less` sets `[hidden] { display: none; }` but bootstrap.min.css set `[hidden] { display: none !important; }` so we also need the `!important` here to be able to override the default hidden behavior on the sphinx rendered scikit-learn.org. See: https://github.com/scikit-learn/scikit-learn/issues/21755 */display: inline-block !important;position: relative;}#sk-container-id-1 div.sk-text-repr-fallback {display: none;}</style><div id=\"sk-container-id-1\" class=\"sk-top-container\"><div class=\"sk-text-repr-fallback\"><pre>LinearRegression()</pre><b>In a Jupyter environment, please rerun this cell to show the HTML representation or trust the notebook. <br />On GitHub, the HTML representation is unable to render, please try loading this page with nbviewer.org.</b></div><div class=\"sk-container\" hidden><div class=\"sk-item\"><div class=\"sk-estimator sk-toggleable\"><input class=\"sk-toggleable__control sk-hidden--visually\" id=\"sk-estimator-id-1\" type=\"checkbox\" checked><label for=\"sk-estimator-id-1\" class=\"sk-toggleable__label sk-toggleable__label-arrow\">LinearRegression</label><div class=\"sk-toggleable__content\"><pre>LinearRegression()</pre></div></div></div></div></div>"
      ],
      "text/plain": [
       "LinearRegression()"
      ]
     },
     "execution_count": 21,
     "metadata": {},
     "output_type": "execute_result"
    }
   ],
   "source": [
    "# С помощью метода fit() применяем нашу модель к нашему набору данных - обучем модель\n",
    "# С помощью .fit() вычисляются оптимальные значение весов w₀ и w₁ и т.д,\n",
    "# используя существующие вход и выход (x и y) в качестве аргументов.\n",
    "\n",
    "model.fit(x, y)"
   ]
  },
  {
   "cell_type": "code",
   "execution_count": 22,
   "metadata": {},
   "outputs": [],
   "source": [
    "y_pred = model.predict(x)"
   ]
  },
  {
   "cell_type": "code",
   "execution_count": 23,
   "metadata": {},
   "outputs": [
    {
     "data": {
      "image/png": "[encoded data removed]",
      "text/plain": [
       "<Figure size 640x480 with 1 Axes>"
      ]
     },
     "metadata": {},
     "output_type": "display_data"
    }
   ],
   "source": [
    "\n",
    "plt.scatter(x, y)\n",
    "plt.plot(x, y_pred, color='red', linewidth=2)\n",
    "plt.show()"
   ]
  },
  {
   "cell_type": "markdown",
   "metadata": {},
   "source": [
    "На простом примере мы убедились, что линейная регрессия не точный вариант предсказания, тк при наличие квадратичной и другой зависимости мы получим неточный результат. Таким образом для решения данной задачи больше подходит нейронная сеть. Перейдём к её описанию."
   ]
  },
  {
   "cell_type": "markdown",
   "metadata": {},
   "source": [
    "# Нейронная сеть"
   ]
  },
  {
   "cell_type": "markdown",
   "metadata": {},
   "source": [
    "\n",
    "1. **Характер данных**: \n",
    "   В задаче у вас есть параметры такие как название телеканала (train_data) :  мы присвоим каждому уникальный channel_id, рейтинг по времени просмотра (view_rating) и рейтинг по количеству зрителей (audience_rating) которые мы успешно спарсили с сайта. Также есть другой набор данных (train_labels) с параметрами как название телеканала (channel_id), программа (programm_id), рейтинг (rating) и охват (coverage). \n",
    "   \n",
    "2. **Тип нейронной сети**:\n",
    "   Для работы с подобного рода структурированными данными, подходит нейронная сеть с архитектурой, способной обрабатывать входные параметры различной природы и типа.\n",
    "   Можно использовать комбинацию различных слоев нейронной сети, таких как:\n",
    "\n",
    "   (1)Плотные слои (Dense layers*) для обработки числовых значений рейтингов просмотров.\n",
    "   *Полносвязные слои (Dense):\n",
    "   После извлечения признаков в сверточных слоях, данные передаются в полносвязные слои,\n",
    "   которые обрабатывают все признаки одновременно и делают окончательные прогнозы.\n",
    "   Количество нейронов в последних полносвязных слоях соответствует количеству классов для классификации.\n",
    "\n",
    "   (2)Сверточные слои (Convolutional layers) для работы с текстовыми данными (названия телеканалов, программы).\n",
    "\n",
    "   (3)Объединение этих слоев для создания модели способной извлекать различные признаки из данных и предсказывать рейтинг телеканала.\n",
    "   \n",
    "3. **Обоснование выбора**:\n",
    "   Выбор комбинации плотных слоев обусловлен тем, что плотные слои могут хорошо работать с числовыми данными,\n",
    "   Такие типы слоев смогут обрабатывать разные типы входных данных и их комбинация поможет создать модель способную решать задачу предсказания рейтинга телеканала.\n",
    "\n",
    "4. **Анализ ошибок**:\n",
    "   Ошибки могут возникать из-за несоответствия данных, недостаточного количества обучающих примеров, неправильного выбора архитектуры нейронной сети, неправильно настроенных гиперпараметров и других факторов.\n",
    "   Важно проводить анализ ошибок после обучения модели, чтобы понять, какие аспекты работы нейронной сети требуют доработки."
   ]
  },
  {
   "cell_type": "code",
   "execution_count": 49,
   "metadata": {},
   "outputs": [],
   "source": [
    "\n",
    "\n",
    "class NeuralNetwork:\n",
    "    def __init__(self):\n",
    "        self.model = tf.keras.Sequential([\n",
    "            tf.keras.layers.Dense(64, activation='relu', input_shape=(2,)),\n",
    "            tf.keras.layers.Dense(64, activation='relu'),\n",
    "            tf.keras.layers.Dense(1)\n",
    "        ])\n",
    "        self.model.compile(optimizer='adam', loss='mean_squared_error')\n",
    "\n",
    "    def predict(self, channel):\n",
    "        inputs = tf.constant([[channel.view_rating, channel.audience_rating]])\n",
    "        output = self.model.predict(inputs)\n",
    "        return output\n",
    "\n",
    "    def train(self, train_data, train_labels, epochs=100):\n",
    "        X_train = tf.constant([[data[1], data[2]] for data in train_data])\n",
    "        y_train = tf.constant([[label[2]] for label in train_labels])\n",
    "        history = self.model.fit(X_train, y_train, epochs=epochs, verbose=0)\n",
    "        self.plot_training_results(history)\n",
    "\n",
    "    def calculate_deviation(self, validation_data):\n",
    "        X_val = tf.constant([[data[1], data[2]] for data in validation_data])\n",
    "        y_val = tf.constant([[data[2]] for data in validation_data])\n",
    "\n",
    "        predictions = self.model.predict(X_val)\n",
    "        deviation = self.calculate_mse(y_val, predictions)\n",
    "        return deviation\n",
    "\n",
    "    def calculate_mse(self, y_true, y_pred):\n",
    "        return tf.reduce_mean(tf.square(y_true - y_pred))\n",
    "\n",
    "    def plot_training_results(self, history):\n",
    "        loss = history.history['loss']\n",
    "        epochs = range(1, len(loss) + 1)\n",
    "        plt.plot(epochs, loss, 'b', label='Training loss')\n",
    "        plt.title('Training loss')\n",
    "        plt.xlabel('Epochs')\n",
    "        plt.ylabel('Loss')\n",
    "        plt.legend()\n",
    "        plt.show()"
   ]
  },
  {
   "cell_type": "code",
   "execution_count": 50,
   "metadata": {},
   "outputs": [
    {
     "data": {
      "image/png": "[encoded data removed]",
      "text/plain": [
       "<Figure size 640x480 with 1 Axes>"
      ]
     },
     "metadata": {},
     "output_type": "display_data"
    },
    {
     "name": "stdout",
     "output_type": "stream",
     "text": [
      "1/1 [==============================] - 0s 30ms/step\n",
      "[[2.4197483]]\n"
     ]
    },
    {
     "data": {
      "text/plain": [
       "\"\\n# Расчет отклонения на validation_data\\nvalidation_data = [[1, 8.5, 1], [2, 7.3, 1]]  # данные для валидации\\ndeviation = neural_network.calculate_deviation(validation_data)\\nprint(f'Mean Squared Error: {deviation.numpy()}')\\n\""
      ]
     },
     "execution_count": 50,
     "metadata": {},
     "output_type": "execute_result"
    }
   ],
   "source": [
    "# Каналы для предсказания\n",
    "channel = Channel(1, 8.07, 3.82)\n",
    "\n",
    "\n",
    "# Создание экземпляра нейронной сети\n",
    "neural_network = NeuralNetwork()\n",
    "\n",
    "# Обучение нейронной сети\n",
    "\n",
    "\"\"\"\n",
    "train_data = [[1, 8.5, 1], [2, 7.3, 1]]  # примеры данных для обучения\n",
    "train_labels = [[1, 'TV1', 8.7, 0.4, 0.8], [2, 'TV2', 7.0, 0.3, 0.6]]  # метки для обучения\n",
    "\"\"\"\n",
    "\n",
    "neural_network.train(train_data, train_labels, epochs=100)\n",
    "\n",
    "# Предсказание рейтингов для каналов\n",
    "print(neural_network.predict(channel))\n",
    "\n",
    "\"\"\"\n",
    "# Расчет отклонения на validation_data\n",
    "validation_data = [[1, 8.5, 1], [2, 7.3, 1]]  # данные для валидации\n",
    "deviation = neural_network.calculate_deviation(validation_data)\n",
    "print(f'Mean Squared Error: {deviation.numpy()}')\n",
    "\"\"\""
   ]
  },
  {
   "cell_type": "markdown",
   "metadata": {},
   "source": [
    "График training loss наглядно демонстрирует результат "
   ]
  }
 ],
 "metadata": {
  "kernelspec": {
   "display_name": "Python 3",
   "language": "python",
   "name": "python3"
  },
  "language_info": {
   "codemirror_mode": {
    "name": "ipython",
    "version": 3
   },
   "file_extension": ".py",
   "mimetype": "text/x-python",
   "name": "python",
   "nbconvert_exporter": "python",
   "pygments_lexer": "ipython3",
   "version": "3.10.12"
  }
 },
 "nbformat": 4,
 "nbformat_minor": 2
}
